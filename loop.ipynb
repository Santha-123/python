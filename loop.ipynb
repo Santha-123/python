{
 "cells": [
  {
   "cell_type": "code",
   "execution_count": 4,
   "metadata": {},
   "outputs": [
    {
     "name": "stdout",
     "output_type": "stream",
     "text": [
      "counting1\n",
      "counting2\n",
      "counting3\n",
      "counting4\n",
      "counting5\n"
     ]
    }
   ],
   "source": [
    "# while loop\n",
    "#counting the numbers\n",
    "count=1\n",
    "while(count<=5):\n",
    "    print(f'counting{count}')\n",
    "    count+=1"
   ]
  },
  {
   "cell_type": "code",
   "execution_count": 5,
   "metadata": {},
   "outputs": [
    {
     "data": {
      "text/plain": [
       "['Mr.anirudh', 'Mr.deva', 'Mr.illaiyaraja']"
      ]
     },
     "execution_count": 5,
     "metadata": {},
     "output_type": "execute_result"
    }
   ],
   "source": [
    "#while loop\n",
    "# manual method by while loop\n",
    "music_directors=['anirudh','deva','illaiyaraja']\n",
    "music_directors\n",
    "updated_list=[]\n",
    "updated_list.append(f'Mr.{music_directors[0]}')\n",
    "updated_list.append(f'Mr.{music_directors[1]}')\n",
    "updated_list.append(f'Mr.{music_directors[2]}')\n",
    "updated_list"
   ]
  },
  {
   "cell_type": "code",
   "execution_count": 11,
   "metadata": {},
   "outputs": [
    {
     "data": {
      "text/plain": [
       "['Mr.anirudh', 'Mr.deva', 'Mr.illaiyaraja']"
      ]
     },
     "execution_count": 11,
     "metadata": {},
     "output_type": "execute_result"
    }
   ],
   "source": [
    "#while loop\n",
    "# automated way by while loop\n",
    "music_directors=['anirudh','deva','illaiyaraja']\n",
    "music_directors\n",
    "updated_list=[]\n",
    "count=0\n",
    "while count<len(music_directors):\n",
    "    updated_list.append(f'Mr.{music_directors[count]}')\n",
    "    count=count+1\n",
    "updated_list\n"
   ]
  },
  {
   "cell_type": "code",
   "execution_count": 12,
   "metadata": {},
   "outputs": [
    {
     "name": "stdout",
     "output_type": "stream",
     "text": [
      "1\n",
      "2\n",
      "3\n",
      "4\n",
      "5\n"
     ]
    }
   ],
   "source": [
    "#while loop basic program\n",
    "i=1\n",
    "while i<=5:\n",
    "    print(i)\n",
    "    i=i+1\n"
   ]
  },
  {
   "cell_type": "code",
   "execution_count": 13,
   "metadata": {},
   "outputs": [
    {
     "data": {
      "text/plain": [
       "[1062.0, 660.8, 790.6, 1050.2]"
      ]
     },
     "execution_count": 13,
     "metadata": {},
     "output_type": "execute_result"
    }
   ],
   "source": [
    "#while loop\n",
    "#GST tax calculation\n",
    "prices=[900,560,670,890]\n",
    "prices\n",
    "total_price =[]\n",
    "count=0\n",
    "while count<len(prices):\n",
    "    tax = prices[count]*(18/100)\n",
    "    total=prices[count]+tax\n",
    "    total_price.append(total)\n",
    "    count=count+1\n",
    "total_price\n"
   ]
  },
  {
   "cell_type": "code",
   "execution_count": null,
   "metadata": {},
   "outputs": [],
   "source": [
    "#while loop\n",
    "#GST tax calculation\n",
    "#indefinite loop\n",
    "prices=[900,560,670,890]\n",
    "prices\n",
    "total_price =[]\n",
    "count=0\n",
    "while count<len(prices):\n",
    "    tax = prices[count]*(18/100)\n",
    "    total=prices[count]+tax\n",
    "    total_price.append(total)\n",
    "    print(f'printing process{count}')\n",
    "total_price"
   ]
  },
  {
   "cell_type": "code",
   "execution_count": 3,
   "metadata": {},
   "outputs": [
    {
     "name": "stdout",
     "output_type": "stream",
     "text": [
      "coke\n",
      "pepsi\n",
      "fruiti\n",
      "miranda\n"
     ]
    }
   ],
   "source": [
    "#for loop\n",
    "bevarages=['coke','pepsi','fruiti','miranda']\n",
    "bevarages\n",
    "for bevarages in bevarages:\n",
    "    print(bevarages)\n"
   ]
  },
  {
   "cell_type": "code",
   "execution_count": 4,
   "metadata": {},
   "outputs": [
    {
     "name": "stdout",
     "output_type": "stream",
     "text": [
      "e\n",
      "n\n",
      " \n",
      "p\n",
      "i\n",
      "r\n",
      "a\n",
      "v\n",
      "i\n",
      "y\n",
      "a\n",
      "e\n",
      " \n",
      "g\n",
      "e\n",
      "t\n",
      "h\n",
      " \n",
      "d\n",
      "a\n"
     ]
    }
   ],
   "source": [
    "#for loop\n",
    "#iterative string\n",
    "sentence='en piraviyae geth da'\n",
    "for item in sentence:\n",
    "    print(item)"
   ]
  },
  {
   "cell_type": "code",
   "execution_count": 7,
   "metadata": {},
   "outputs": [
    {
     "name": "stdout",
     "output_type": "stream",
     "text": [
      "0\n",
      "1\n",
      "2\n",
      "3\n",
      "4\n"
     ]
    }
   ],
   "source": [
    "#for loop\n",
    "#range\n",
    "#stop number\n",
    "numbers=range(5)\n",
    "numbers\n",
    "for n in  numbers:\n",
    "    print(n)"
   ]
  },
  {
   "cell_type": "code",
   "execution_count": 9,
   "metadata": {},
   "outputs": [
    {
     "name": "stdout",
     "output_type": "stream",
     "text": [
      "5\n",
      "6\n",
      "7\n",
      "8\n",
      "9\n",
      "10\n",
      "11\n",
      "12\n",
      "13\n",
      "14\n",
      "15\n",
      "16\n",
      "17\n",
      "18\n",
      "19\n",
      "20\n",
      "21\n",
      "22\n",
      "23\n",
      "24\n"
     ]
    }
   ],
   "source": [
    "# for loop\n",
    "#range\n",
    "#start number\n",
    "numbers=range(5,25)\n",
    "numbers\n",
    "for n in  numbers:\n",
    "    print(n)\n"
   ]
  },
  {
   "cell_type": "code",
   "execution_count": 12,
   "metadata": {},
   "outputs": [
    {
     "name": "stdout",
     "output_type": "stream",
     "text": [
      "5\n",
      "7\n",
      "9\n",
      "11\n",
      "13\n",
      "15\n",
      "17\n",
      "19\n",
      "21\n",
      "23\n"
     ]
    }
   ],
   "source": [
    "# for loop\n",
    "#range\n",
    "#step number\n",
    "numbers=range(5,25,2)\n",
    "numbers\n",
    "for n in  numbers:\n",
    "    print(n)"
   ]
  },
  {
   "cell_type": "code",
   "execution_count": 13,
   "metadata": {},
   "outputs": [
    {
     "name": "stdout",
     "output_type": "stream",
     "text": [
      "6\n",
      "11\n",
      "16\n",
      "21\n",
      "26\n",
      "31\n"
     ]
    }
   ],
   "source": [
    "#for loop\n",
    "#range\n",
    "#another method by directly assigning range in for loop instead of assiging the range seperately and calling them\n",
    "for i in range(6,34,5):\n",
    "    print(i)"
   ]
  },
  {
   "cell_type": "code",
   "execution_count": 15,
   "metadata": {},
   "outputs": [
    {
     "name": "stdout",
     "output_type": "stream",
     "text": [
      "10\n",
      "9\n",
      "8\n",
      "7\n",
      "6\n",
      "5\n",
      "4\n",
      "3\n",
      "2\n"
     ]
    }
   ],
   "source": [
    "#for loop\n",
    "#range\n",
    "#to print the number in reverse order\n",
    "#another method by directly assigning range in for loop instead of assiging the range seperately and calling them\n",
    "for i in range(10,1,-1):\n",
    "    print(i)"
   ]
  },
  {
   "cell_type": "code",
   "execution_count": 22,
   "metadata": {},
   "outputs": [
    {
     "name": "stdout",
     "output_type": "stream",
     "text": [
      "pen\n",
      "pencil\n",
      "notebook\n",
      "bluetooth\n",
      "neckband bluettooth\n",
      "ear pots\n",
      "t-shirt\n",
      "shirt\n",
      "pant\n"
     ]
    }
   ],
   "source": [
    "#nested loop\n",
    "#nested while\n",
    "shopping_cart1=['pen','pencil','notebook']\n",
    "shopping_cart2=['bluetooth','neckband bluettooth','ear pots']\n",
    "shopping_cart3=['t-shirt','shirt','pant']\n",
    "shopping_carts=[shopping_cart1,shopping_cart2,shopping_cart3]\n",
    "shopping_carts\n",
    "#output for shopping carts and we can note the length of the shopping carts=9\n",
    "# [['pen', 'pencil', 'notebook'],\n",
    "#  ['bluetooth', 'neckband bluettooth', 'ear pots'],\n",
    "#  ['t-shirt', 'shirt', 'pant']]\n",
    "\n",
    "i=0\n",
    "while i<len(shopping_carts):\n",
    "    j=0\n",
    "    while j<len(shopping_carts[i]):\n",
    "        print(shopping_carts[i][j])\n",
    "        j=j+1\n",
    "    i=i+1\n"
   ]
  },
  {
   "cell_type": "code",
   "execution_count": 28,
   "metadata": {},
   "outputs": [
    {
     "name": "stdout",
     "output_type": "stream",
     "text": [
      "pen\n",
      "pencil\n",
      "notebook\n",
      "bluetooth\n",
      "neckband bluettooth\n",
      "ear pots\n",
      "t-shirt\n",
      "shirt\n",
      "pant\n"
     ]
    }
   ],
   "source": [
    "#nested loop\n",
    "#nested for\n",
    "shopping_cart1=['pen','pencil','notebook']\n",
    "shopping_cart2=['bluetooth','neckband bluettooth','ear pots']\n",
    "shopping_cart3=['t-shirt','shirt','pant']\n",
    "shopping_carts=[shopping_cart1,shopping_cart2,shopping_cart3]\n",
    "shopping_carts\n",
    "#output for shopping carts and we can note the length of the shopping carts=9\n",
    "# [['pen', 'pencil', 'notebook'],\n",
    "#  ['bluetooth', 'neckband bluettooth', 'ear pots'],\n",
    "#  ['t-shirt', 'shirt', 'pant']]\n",
    "for items in shopping_carts:\n",
    "    for item in items:\n",
    "        print(item)"
   ]
  },
  {
   "cell_type": "code",
   "execution_count": 29,
   "metadata": {},
   "outputs": [
    {
     "name": "stdout",
     "output_type": "stream",
     "text": [
      "\n",
      "* \n",
      "* * \n",
      "* * * \n"
     ]
    }
   ],
   "source": [
    "#nested for loop to print  pattern\n",
    "for i in range(1,5):\n",
    "    for j in range(1,i):\n",
    "        print('*',end= ' ')\n",
    "    print()    "
   ]
  },
  {
   "cell_type": "code",
   "execution_count": 1,
   "metadata": {},
   "outputs": [
    {
     "name": "stdout",
     "output_type": "stream",
     "text": [
      "fruiti\n",
      "miranda\n",
      "coak\n",
      "pepsi\n",
      "lime\n",
      "fanta\n",
      "fanta is available\n"
     ]
    }
   ],
   "source": [
    "#break statement\n",
    "#while break\n",
    "beverages=['fruiti','miranda','coak','pepsi','lime','fanta']\n",
    "beverages\n",
    "count=0\n",
    "while count<len(beverages):\n",
    "    print(beverages[count])\n",
    "    if beverages[count] =='fanta':\n",
    "        print('fanta is available')\n",
    "        break\n",
    "    count=count+1\n"
   ]
  },
  {
   "cell_type": "code",
   "execution_count": 2,
   "metadata": {},
   "outputs": [
    {
     "name": "stdout",
     "output_type": "stream",
     "text": [
      "fruiti\n",
      "miranda\n",
      "coak\n",
      "pepsi\n",
      "lime\n",
      "fanta\n",
      "fanta is available\n"
     ]
    }
   ],
   "source": [
    "#break statement\n",
    "#for break\n",
    "beverages=['fruiti','miranda','coak','pepsi','lime','fanta']\n",
    "beverages\n",
    "for beverage in beverages:\n",
    "    print(beverage)\n",
    "    if beverage== 'fanta':\n",
    "        print('fanta is available')\n",
    "        break"
   ]
  },
  {
   "cell_type": "code",
   "execution_count": 5,
   "metadata": {},
   "outputs": [
    {
     "name": "stdout",
     "output_type": "stream",
     "text": [
      "1\n",
      "2\n",
      "3\n",
      "4\n"
     ]
    }
   ],
   "source": [
    "#break statement\n",
    "for i in range(1,10):\n",
    "    if i == 5:\n",
    "        break\n",
    "    else:\n",
    "        print(i)\n",
    "        i=i+1"
   ]
  },
  {
   "cell_type": "code",
   "execution_count": 12,
   "metadata": {},
   "outputs": [
    {
     "name": "stdout",
     "output_type": "stream",
     "text": [
      "buy fruiti\n",
      "buy miranda\n",
      "buy coak\n",
      "buy pepsi\n",
      "buy lime\n"
     ]
    }
   ],
   "source": [
    "#continue statement\n",
    "#while continue\n",
    "beverages=['fruiti','miranda','coak','pepsi','lime','fanta']\n",
    "beverages\n",
    "count=0\n",
    "while count<len(beverages):\n",
    "    if beverages[count]=='fanta':\n",
    "        count=count+1\n",
    "        continue\n",
    "    print(f'buy {beverages [count]}')\n",
    "    count=count+1"
   ]
  },
  {
   "cell_type": "code",
   "execution_count": 18,
   "metadata": {},
   "outputs": [
    {
     "name": "stdout",
     "output_type": "stream",
     "text": [
      "buy fruiti\n",
      "buy miranda\n",
      "buy coak\n",
      "buy pepsi\n",
      "buy lime\n"
     ]
    }
   ],
   "source": [
    "#continue statement\n",
    "#for continue\n",
    "beverages=['fruiti','miranda','coak','pepsi','lime','fanta']\n",
    "beverages\n",
    "for beverage in beverages:\n",
    "    if beverage =='fanta':\n",
    "     continue\n",
    "    print(f'buy {beverage}')"
   ]
  },
  {
   "cell_type": "code",
   "execution_count": 23,
   "metadata": {},
   "outputs": [
    {
     "name": "stdout",
     "output_type": "stream",
     "text": [
      "2\n",
      "4\n",
      "6\n",
      "8\n",
      "10\n"
     ]
    }
   ],
   "source": [
    "#continue statement\n",
    "for i in range(1,11):\n",
    "    if i%2!=0:\n",
    "        continue\n",
    "        i=i+1\n",
    "    else:\n",
    "        print(i)\n",
    "        i=i+1"
   ]
  },
  {
   "cell_type": "code",
   "execution_count": null,
   "metadata": {},
   "outputs": [],
   "source": [
    "#else in while\n",
    "books=['tam','eng','mat','sci','soc']\n",
    "count=0\n",
    "while count<len(books):\n",
    "    if books[count]=='mat':\n",
    "        print('book found')\n",
    "        count=count+1\n",
    "    else:\n",
    "        print('book not found')"
   ]
  },
  {
   "cell_type": "code",
   "execution_count": 1,
   "metadata": {},
   "outputs": [
    {
     "name": "stdout",
     "output_type": "stream",
     "text": [
      "sci is not available\n",
      "sci is not available\n",
      "sci is not available\n",
      "sci is available\n",
      "sci is not available\n"
     ]
    }
   ],
   "source": [
    "#else in for\n",
    "books=['tam','eng','mat','sci','soc']\n",
    "for book in books:\n",
    "    if book =='sci':\n",
    "        print('sci is available')\n",
    "    else:\n",
    "        print('sci is not available')\n"
   ]
  }
 ],
 "metadata": {
  "kernelspec": {
   "display_name": ".venv",
   "language": "python",
   "name": "python3"
  },
  "language_info": {
   "codemirror_mode": {
    "name": "ipython",
    "version": 3
   },
   "file_extension": ".py",
   "mimetype": "text/x-python",
   "name": "python",
   "nbconvert_exporter": "python",
   "pygments_lexer": "ipython3",
   "version": "3.11.6"
  }
 },
 "nbformat": 4,
 "nbformat_minor": 2
}
