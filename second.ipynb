{
 "cells": [
  {
   "cell_type": "code",
   "execution_count": 1,
   "metadata": {},
   "outputs": [
    {
     "data": {
      "text/plain": [
       "True"
      ]
     },
     "execution_count": 1,
     "metadata": {},
     "output_type": "execute_result"
    }
   ],
   "source": [
    "#FLow control statements\n",
    "#comparision operators\n",
    "#equality\n",
    "x=6\n",
    "y=6\n",
    "x==y"
   ]
  },
  {
   "cell_type": "code",
   "execution_count": 3,
   "metadata": {},
   "outputs": [
    {
     "data": {
      "text/plain": [
       "False"
      ]
     },
     "execution_count": 3,
     "metadata": {},
     "output_type": "execute_result"
    }
   ],
   "source": [
    "#FLow control statements\n",
    "#comparision operators\n",
    "#equality\n",
    "x=89\n",
    "y=67\n",
    "x==y"
   ]
  },
  {
   "cell_type": "code",
   "execution_count": 4,
   "metadata": {},
   "outputs": [
    {
     "data": {
      "text/plain": [
       "True"
      ]
     },
     "execution_count": 4,
     "metadata": {},
     "output_type": "execute_result"
    }
   ],
   "source": [
    "#FLow control statements\n",
    "#comparision operators\n",
    "#inequality\n",
    "x=89\n",
    "y=67\n",
    "x!=y"
   ]
  },
  {
   "cell_type": "code",
   "execution_count": 5,
   "metadata": {},
   "outputs": [
    {
     "data": {
      "text/plain": [
       "False"
      ]
     },
     "execution_count": 5,
     "metadata": {},
     "output_type": "execute_result"
    }
   ],
   "source": [
    "#FLow control statements\n",
    "#comparision operators\n",
    "#inequality\n",
    "x=6\n",
    "y=6\n",
    "x!=y"
   ]
  },
  {
   "cell_type": "code",
   "execution_count": 6,
   "metadata": {},
   "outputs": [
    {
     "data": {
      "text/plain": [
       "False"
      ]
     },
     "execution_count": 6,
     "metadata": {},
     "output_type": "execute_result"
    }
   ],
   "source": [
    "# FLow control statements\n",
    "#comparision operators\n",
    "#greater than\n",
    "x=5\n",
    "y=8\n",
    "x>y"
   ]
  },
  {
   "cell_type": "code",
   "execution_count": 7,
   "metadata": {},
   "outputs": [
    {
     "data": {
      "text/plain": [
       "True"
      ]
     },
     "execution_count": 7,
     "metadata": {},
     "output_type": "execute_result"
    }
   ],
   "source": [
    "# FLow control statements\n",
    "#comparision operators\n",
    "#greater than\n",
    "x=9\n",
    "y=8\n",
    "x>y"
   ]
  },
  {
   "cell_type": "code",
   "execution_count": 8,
   "metadata": {},
   "outputs": [
    {
     "data": {
      "text/plain": [
       "False"
      ]
     },
     "execution_count": 8,
     "metadata": {},
     "output_type": "execute_result"
    }
   ],
   "source": [
    "# FLow control statements\n",
    "#comparision operators\n",
    "#less than\n",
    "x=9\n",
    "y=0\n",
    "x<y"
   ]
  },
  {
   "cell_type": "code",
   "execution_count": 9,
   "metadata": {},
   "outputs": [
    {
     "data": {
      "text/plain": [
       "True"
      ]
     },
     "execution_count": 9,
     "metadata": {},
     "output_type": "execute_result"
    }
   ],
   "source": [
    "#FLow control statements\n",
    "#comparision operators\n",
    "#less than\n",
    "x=9\n",
    "y=100\n",
    "x<y"
   ]
  },
  {
   "cell_type": "code",
   "execution_count": 10,
   "metadata": {},
   "outputs": [
    {
     "data": {
      "text/plain": [
       "True"
      ]
     },
     "execution_count": 10,
     "metadata": {},
     "output_type": "execute_result"
    }
   ],
   "source": [
    "#FLow control statements\n",
    "#comparision operators\n",
    "#greater than or equal\n",
    "x=6\n",
    "y=5\n",
    "x>=y"
   ]
  },
  {
   "cell_type": "code",
   "execution_count": 11,
   "metadata": {},
   "outputs": [
    {
     "data": {
      "text/plain": [
       "True"
      ]
     },
     "execution_count": 11,
     "metadata": {},
     "output_type": "execute_result"
    }
   ],
   "source": [
    "#FLow control statements\n",
    "#comparision operators\n",
    "#greater than or equal\n",
    "x=5\n",
    "y=5\n",
    "x>=y"
   ]
  },
  {
   "cell_type": "code",
   "execution_count": 12,
   "metadata": {},
   "outputs": [
    {
     "data": {
      "text/plain": [
       "True"
      ]
     },
     "execution_count": 12,
     "metadata": {},
     "output_type": "execute_result"
    }
   ],
   "source": [
    "#FLow control statements\n",
    "#comparision operators\n",
    "#less than or equal\n",
    "x=5\n",
    "y=5\n",
    "x<=y"
   ]
  },
  {
   "cell_type": "code",
   "execution_count": 13,
   "metadata": {},
   "outputs": [
    {
     "data": {
      "text/plain": [
       "False"
      ]
     },
     "execution_count": 13,
     "metadata": {},
     "output_type": "execute_result"
    }
   ],
   "source": [
    "#FLow control statements\n",
    "#comparision operators\n",
    "#less than or equal\n",
    "x=6\n",
    "y=5\n",
    "x<=y"
   ]
  },
  {
   "cell_type": "code",
   "execution_count": 14,
   "metadata": {},
   "outputs": [
    {
     "data": {
      "text/plain": [
       "True"
      ]
     },
     "execution_count": 14,
     "metadata": {},
     "output_type": "execute_result"
    }
   ],
   "source": [
    "#FLow control statements\n",
    "#comparision operators\n",
    "#membership operators(in,not in)\n",
    "string='santha'\n",
    "#using in\n",
    "'s'in string\n"
   ]
  },
  {
   "cell_type": "code",
   "execution_count": 15,
   "metadata": {},
   "outputs": [
    {
     "ename": "SyntaxError",
     "evalue": "invalid syntax (1500742198.py, line 1)",
     "output_type": "error",
     "traceback": [
      "\u001b[0;36m  Cell \u001b[0;32mIn[15], line 1\u001b[0;36m\u001b[0m\n\u001b[0;31m    FLow control statements\u001b[0m\n\u001b[0m         ^\u001b[0m\n\u001b[0;31mSyntaxError\u001b[0m\u001b[0;31m:\u001b[0m invalid syntax\n"
     ]
    }
   ],
   "source": [
    "FLow control statements\n",
    "#comparision operators\n",
    "#membership operators(in,not in)\n",
    "string='santha'\n",
    "#using not in\n",
    "'S'in string\n",
    "#output:python is case sensitive so it notifies uppercase and lowercase too..\n",
    "#output:In this string I given name as 'santha' in lower case so it find the element when it is in only lowercase ..if you tell to identify the element in uppercase it does not and  it occurs error"
   ]
  },
  {
   "cell_type": "code",
   "execution_count": null,
   "metadata": {},
   "outputs": [
    {
     "name": "stdout",
     "output_type": "stream",
     "text": [
      "user agreed for terms\n"
     ]
    }
   ],
   "source": [
    "#single conditiom if_clause method 1 \n",
    "agreed=input('Do you agree the terms and conditions?yes or no')\n",
    "if agreed == 'yes':\n",
    "    print('user agreed for terms')\n"
   ]
  },
  {
   "cell_type": "code",
   "execution_count": null,
   "metadata": {},
   "outputs": [
    {
     "name": "stdout",
     "output_type": "stream",
     "text": [
      "user agreed for terms\n"
     ]
    }
   ],
   "source": [
    "#single conditiom if_clause method 2 \n",
    "agreed=input('Do you agree the terms and conditions?yes or no')\n",
    "if agreed:\n",
    "    print('user agreed for terms')"
   ]
  },
  {
   "cell_type": "code",
   "execution_count": null,
   "metadata": {},
   "outputs": [
    {
     "name": "stdout",
     "output_type": "stream",
     "text": [
      "It is an odd number\n"
     ]
    }
   ],
   "source": [
    "#Double condition if else clause\n",
    "#exercise 1(homework)\n",
    "#to identify odd or even number by getting input in run time\n",
    "num =int(input('Enter the number'))\n",
    "if( num % 2 == 0):\n",
    "    print('It is an even number')\n",
    "else:\n",
    "    print('It is an odd number')"
   ]
  },
  {
   "cell_type": "code",
   "execution_count": null,
   "metadata": {},
   "outputs": [
    {
     "name": "stdout",
     "output_type": "stream",
     "text": [
      "Eligible for vote\n"
     ]
    }
   ],
   "source": [
    "#Double condition if else clause\n",
    "#if else condition\n",
    "age=input('Enter the age')\n",
    "age=int(age)\n",
    "if age>=18:\n",
    "    print('Eligible for vote')\n",
    "else:\n",
    "    print('Not eligible for vote')"
   ]
  },
  {
   "cell_type": "code",
   "execution_count": null,
   "metadata": {},
   "outputs": [
    {
     "name": "stdout",
     "output_type": "stream",
     "text": [
      "Horror\n"
     ]
    }
   ],
   "source": [
    "#ternary operator(writing the if else code in single line)\n",
    "age=input('Enter the age')\n",
    "age=int(age)\n",
    "print('cartoon') if age<=10 else print('Horror')"
   ]
  },
  {
   "cell_type": "code",
   "execution_count": null,
   "metadata": {},
   "outputs": [
    {
     "name": "stdout",
     "output_type": "stream",
     "text": [
      "Hindi movie\n"
     ]
    }
   ],
   "source": [
    "#many conditions if..elif..elif..else\n",
    "state=input('Enter state')\n",
    "if state == 'Tamilnadu':\n",
    "    print('Tamil movies')\n",
    "elif state == ('Kannada'):\n",
    "    print('Kannada movie')\n",
    "elif state == ('Rajasthan'):\n",
    "    print('Hindi movie')\n",
    "else:\n",
    "    print('Telungu movie')\n",
    "#output : In input you can give the string  in parenthesis or does not need to givethe string in parenthesis in condition statement it gives output"
   ]
  },
  {
   "cell_type": "code",
   "execution_count": null,
   "metadata": {},
   "outputs": [
    {
     "name": "stdout",
     "output_type": "stream",
     "text": [
      "It is a consonant\n"
     ]
    }
   ],
   "source": [
    " #switch statement \n",
    "rt =input('Enter the alphabet')\n",
    "match rt:\n",
    "    case 'a':\n",
    "        print('It is a vowel')\n",
    "    case 'e':\n",
    "        print('It is a vowel')\n",
    "    case 'i':\n",
    "        print('It is a vowel')\n",
    "    case 'o':\n",
    "        print('It is a vowel')\n",
    "    case 'u':\n",
    "        print('It is a vowel')\n",
    "    case _:\n",
    "        print('It is a consonant')\n",
    "#output:python is case sensitive so it notifies uppercase and lowercase too..\n",
    "#output:In this string I given 'a,e,i,o,u' in lower case so it find the element when it is in only lowercase ..if you tell to identify the element in uppercase it does not and  it occurs error"
   ]
  },
  {
   "cell_type": "code",
   "execution_count": null,
   "metadata": {},
   "outputs": [
    {
     "name": "stdout",
     "output_type": "stream",
     "text": [
      "Today breakfast is good\n"
     ]
    }
   ],
   "source": [
    "#Logical operators\n",
    "#logical and(all conditions must be true)\n",
    "idly=input('how is today''s idly good or bad?')\n",
    "chutney=input('how is chutney good or bad?')\n",
    "if idly ==\"good\" and chutney == \"good\":\n",
    "    print('Today breakfast is good')\n",
    "else:\n",
    "    print('Today breakfast is not good')\n",
    "#output:\"idly=input('how is today''s idly good or bad?')\" \n",
    "        # In this line 'today' has two quotes because the single quote the python take as a string and it declares error so we had given two quotes near to today "
   ]
  },
  {
   "cell_type": "code",
   "execution_count": null,
   "metadata": {},
   "outputs": [
    {
     "name": "stdout",
     "output_type": "stream",
     "text": [
      "Happy customer\n"
     ]
    }
   ],
   "source": [
    "#Logical operators\n",
    "#logical or(atleast one conditions must be true)\n",
    "lottery1 = input('Have you won?yes or no')\n",
    "lottery2 = input('Have you won?yes or no')\n",
    "if lottery1 == 'yes' or lottery2 == 'yes':\n",
    "    print('Happy customer')\n",
    "else:\n",
    "    print('sad customer')\n"
   ]
  },
  {
   "cell_type": "code",
   "execution_count": null,
   "metadata": {},
   "outputs": [
    {
     "data": {
      "text/plain": [
       "['R program', 'c++', 'c']"
      ]
     },
     "execution_count": 1,
     "metadata": {},
     "output_type": "execute_result"
    }
   ],
   "source": [
    "#list\n",
    "#create a list\n",
    "books=['R program','c++','c']\n",
    "books"
   ]
  },
  {
   "cell_type": "code",
   "execution_count": null,
   "metadata": {},
   "outputs": [
    {
     "data": {
      "text/plain": [
       "[34, 56, 78]"
      ]
     },
     "execution_count": 2,
     "metadata": {},
     "output_type": "execute_result"
    }
   ],
   "source": [
    "#list\n",
    "#create a list in numbers\n",
    "numbers=[34,56,78]\n",
    "numbers"
   ]
  },
  {
   "cell_type": "code",
   "execution_count": null,
   "metadata": {},
   "outputs": [
    {
     "data": {
      "text/plain": [
       "['santha', '21', 'female', '7896543123']"
      ]
     },
     "execution_count": 3,
     "metadata": {},
     "output_type": "execute_result"
    }
   ],
   "source": [
    "#list\n",
    "#create a list in numbers in numbers and string\n",
    "candidate=['santha','21','female','7896543123']\n",
    "candidate"
   ]
  },
  {
   "cell_type": "code",
   "execution_count": null,
   "metadata": {},
   "outputs": [
    {
     "data": {
      "text/plain": [
       "[]"
      ]
     },
     "execution_count": 4,
     "metadata": {},
     "output_type": "execute_result"
    }
   ],
   "source": [
    "#list\n",
    "#when thers is no items it result as null set\n",
    "books=[]\n",
    "books"
   ]
  },
  {
   "cell_type": "code",
   "execution_count": null,
   "metadata": {},
   "outputs": [
    {
     "data": {
      "text/plain": [
       "['sql', 'data analytics', 'data scientist']"
      ]
     },
     "execution_count": 5,
     "metadata": {},
     "output_type": "execute_result"
    }
   ],
   "source": [
    "# list\n",
    "#add item to a list using append function\n",
    "books=[]\n",
    "books\n",
    "books.append('sql')\n",
    "books.append('data analytics')\n",
    "books.append('data scientist')\n",
    "books"
   ]
  },
  {
   "cell_type": "code",
   "execution_count": null,
   "metadata": {},
   "outputs": [
    {
     "data": {
      "text/plain": [
       "['sunflower', 'hibiscus']"
      ]
     },
     "execution_count": 8,
     "metadata": {},
     "output_type": "execute_result"
    }
   ],
   "source": [
    "# list\n",
    "#delete the particular item from the list using remove function \n",
    "flowers=['sunflower','rose','datura','hibiscus']\n",
    "flowers\n",
    "flowers.remove('datura')\n",
    "flowers.remove('rose')\n",
    "flowers"
   ]
  },
  {
   "cell_type": "code",
   "execution_count": null,
   "metadata": {},
   "outputs": [
    {
     "data": {
      "text/plain": [
       "[]"
      ]
     },
     "execution_count": 9,
     "metadata": {},
     "output_type": "execute_result"
    }
   ],
   "source": [
    "# list\n",
    "#clear items from the list\n",
    "flowers=['sunflower','rose','datura','hibiscus']\n",
    "flowers.clear()\n",
    "flowers\n",
    "# output:You did not delete the list ,you just only cleared so it remains an empty list"
   ]
  },
  {
   "cell_type": "code",
   "execution_count": null,
   "metadata": {},
   "outputs": [
    {
     "data": {
      "text/plain": [
       "[]"
      ]
     },
     "execution_count": 13,
     "metadata": {},
     "output_type": "execute_result"
    }
   ],
   "source": [
    "# list\n",
    "#reset and replace list\n",
    "twowheelers=['scooty pept','streak','pleasure']\n",
    "twowheelers\n",
    "#reset list\n",
    "twowheelers=[]\n",
    "twowheelers\n",
    "# output:list name must be in one word we should not give space between two and wheelers"
   ]
  },
  {
   "cell_type": "code",
   "execution_count": null,
   "metadata": {},
   "outputs": [
    {
     "data": {
      "text/plain": [
       "['activa', 'honda', 'pulsar']"
      ]
     },
     "execution_count": 14,
     "metadata": {},
     "output_type": "execute_result"
    }
   ],
   "source": [
    "# list\n",
    "#reset and replace list\n",
    "twowheelers=['scooty pept','streak','pleasure']\n",
    "twowheelers\n",
    "#replace list\n",
    "twowheelers=['activa','honda','pulsar']\n",
    "twowheelers\n",
    "# output:list name must be in one word we should not give space between two and wheelers"
   ]
  },
  {
   "cell_type": "code",
   "execution_count": null,
   "metadata": {},
   "outputs": [
    {
     "data": {
      "text/plain": [
       "'pleasure'"
      ]
     },
     "execution_count": 17,
     "metadata": {},
     "output_type": "execute_result"
    }
   ],
   "source": [
    "# list\n",
    "#list indexing\n",
    "twowheelers=['scooty pept','streak','pleasure']\n",
    "twowheelers[2]\n",
    "#note:index starts from 0 in list and must give square brackets for that index number"
   ]
  },
  {
   "cell_type": "code",
   "execution_count": null,
   "metadata": {},
   "outputs": [
    {
     "ename": "IndexError",
     "evalue": "list index out of range",
     "output_type": "error",
     "traceback": [
      "\u001b[0;31m---------------------------------------------------------------------------\u001b[0m",
      "\u001b[0;31mIndexError\u001b[0m                                Traceback (most recent call last)",
      "Cell \u001b[0;32mIn[18], line 4\u001b[0m\n\u001b[1;32m      1\u001b[0m \u001b[38;5;66;03m# list\u001b[39;00m\n\u001b[1;32m      2\u001b[0m \u001b[38;5;66;03m#invalid indexing\u001b[39;00m\n\u001b[1;32m      3\u001b[0m twowheelers\u001b[38;5;241m=\u001b[39m[\u001b[38;5;124m'\u001b[39m\u001b[38;5;124mscooty pept\u001b[39m\u001b[38;5;124m'\u001b[39m,\u001b[38;5;124m'\u001b[39m\u001b[38;5;124mstreak\u001b[39m\u001b[38;5;124m'\u001b[39m,\u001b[38;5;124m'\u001b[39m\u001b[38;5;124mpleasure\u001b[39m\u001b[38;5;124m'\u001b[39m]\n\u001b[0;32m----> 4\u001b[0m \u001b[43mtwowheelers\u001b[49m\u001b[43m[\u001b[49m\u001b[38;5;241;43m3\u001b[39;49m\u001b[43m]\u001b[49m\n",
      "\u001b[0;31mIndexError\u001b[0m: list index out of range"
     ]
    }
   ],
   "source": [
    "# list\n",
    "#invalid indexing\n",
    "twowheelers=['scooty pept','streak','pleasure']\n",
    "twowheelers[3]\n",
    "#note:In third position there is no item in the given list so it occurs error"
   ]
  },
  {
   "cell_type": "code",
   "execution_count": null,
   "metadata": {},
   "outputs": [
    {
     "data": {
      "text/plain": [
       "['sunflower', 'rose', 'jasmine', 'datura', 'hibiscus']"
      ]
     },
     "execution_count": 21,
     "metadata": {},
     "output_type": "execute_result"
    }
   ],
   "source": [
    "# list\n",
    "#insert item by using insert function\n",
    "flowers=['sunflower','rose','datura','hibiscus']\n",
    "flowers.insert(2,'jasmine')\n",
    "flowers\n",
    "#note:index starts from 0 and by the way in second index the item which I gave is added"
   ]
  },
  {
   "cell_type": "code",
   "execution_count": null,
   "metadata": {},
   "outputs": [
    {
     "data": {
      "text/plain": [
       "['sunflower', 'jasmine', 'datura', 'hibiscus']"
      ]
     },
     "execution_count": 24,
     "metadata": {},
     "output_type": "execute_result"
    }
   ],
   "source": [
    "# list\n",
    "#replace item \n",
    "flowers=['sunflower','rose','datura','hibiscus']\n",
    "flowers[1]='jasmine'\n",
    "flowers\n",
    "#note: to replace there is no replace function we must we use index value with string for replacing"
   ]
  },
  {
   "cell_type": "code",
   "execution_count": null,
   "metadata": {},
   "outputs": [
    {
     "data": {
      "text/plain": [
       "True"
      ]
     },
     "execution_count": 26,
     "metadata": {},
     "output_type": "execute_result"
    }
   ],
   "source": [
    "# list\n",
    "#find item exists\n",
    "twowheelers=['scooty pept','streak','pleasure']\n",
    "'streak'in twowheelers\n",
    "#note:to find that item is there we use membership operator 'IN' and results in boolean"
   ]
  },
  {
   "cell_type": "code",
   "execution_count": null,
   "metadata": {},
   "outputs": [
    {
     "data": {
      "text/plain": [
       "4"
      ]
     },
     "execution_count": 27,
     "metadata": {},
     "output_type": "execute_result"
    }
   ],
   "source": [
    "# list\n",
    "#total items\n",
    "flowers=['sunflower','rose','datura','hibiscus']\n",
    "len(flowers)\n",
    "#note: len string will count as usually from 1 only "
   ]
  },
  {
   "cell_type": "code",
   "execution_count": null,
   "metadata": {},
   "outputs": [
    {
     "data": {
      "text/plain": [
       "[['sunflower', 'jasmine', 'datura', 'hibiscus'],\n",
       " ['sunflower', 'rose', 'jasmine', 'datura', 'hibiscus']]"
      ]
     },
     "execution_count": 31,
     "metadata": {},
     "output_type": "execute_result"
    }
   ],
   "source": [
    "# list\n",
    "# nested list\n",
    "flower_1=['sunflower', 'jasmine', 'datura', 'hibiscus']\n",
    "flower_2=['sunflower', 'rose', 'jasmine', 'datura', 'hibiscus']\n",
    "flowers=[flower_1,flower_2]\n",
    "flowers"
   ]
  },
  {
   "cell_type": "code",
   "execution_count": null,
   "metadata": {},
   "outputs": [
    {
     "data": {
      "text/plain": [
       "('monday', 'tuesday', 'wednesday', 'thursday', 'friday')"
      ]
     },
     "execution_count": 32,
     "metadata": {},
     "output_type": "execute_result"
    }
   ],
   "source": [
    "# tuple\n",
    "#create tuple\n",
    "week_days=('monday','tuesday','wednesday','thursday','friday')\n",
    "week_days"
   ]
  },
  {
   "cell_type": "code",
   "execution_count": null,
   "metadata": {},
   "outputs": [
    {
     "data": {
      "text/plain": [
       "(34, 56, 78)"
      ]
     },
     "execution_count": 33,
     "metadata": {},
     "output_type": "execute_result"
    }
   ],
   "source": [
    "# tuple\n",
    "#create tuple in numbers\n",
    "numbers=(34,56,78)\n",
    "numbers"
   ]
  },
  {
   "cell_type": "code",
   "execution_count": null,
   "metadata": {},
   "outputs": [
    {
     "data": {
      "text/plain": [
       "('santha', '21', 'female', '7896543123')"
      ]
     },
     "execution_count": 34,
     "metadata": {},
     "output_type": "execute_result"
    }
   ],
   "source": [
    "#tuple\n",
    "#create a tuple in numbers in numbers and string\n",
    "candidate=('santha','21','female','7896543123')\n",
    "candidate"
   ]
  },
  {
   "cell_type": "code",
   "execution_count": null,
   "metadata": {},
   "outputs": [
    {
     "data": {
      "text/plain": [
       "1"
      ]
     },
     "execution_count": 35,
     "metadata": {},
     "output_type": "execute_result"
    }
   ],
   "source": [
    "#tuple\n",
    "#count items\n",
    "week_days=('monday','tuesday','wednesday','thursday','friday')\n",
    "week_days.count('friday')\n",
    "#note:It counts the particular item occurs how many times in the list"
   ]
  },
  {
   "cell_type": "code",
   "execution_count": null,
   "metadata": {},
   "outputs": [
    {
     "data": {
      "text/plain": [
       "'friday'"
      ]
     },
     "execution_count": 38,
     "metadata": {},
     "output_type": "execute_result"
    }
   ],
   "source": [
    "#tuple\n",
    "#indexing\n",
    "week_days=('monday','tuesday','wednesday','thursday','friday')\n",
    "week_days[4]\n",
    "#note:it displays the value which is in third position and the index starts from 0 in tuple too...."
   ]
  },
  {
   "cell_type": "code",
   "execution_count": null,
   "metadata": {},
   "outputs": [
    {
     "data": {
      "text/plain": [
       "1"
      ]
     },
     "execution_count": 40,
     "metadata": {},
     "output_type": "execute_result"
    }
   ],
   "source": [
    "#tuple\n",
    "#get index\n",
    "week_days=('monday','tuesday','wednesday','thursday','friday')\n",
    "week_days.index('tuesday')\n",
    "#note: it shows the particular item in which position by getting index"
   ]
  },
  {
   "cell_type": "code",
   "execution_count": null,
   "metadata": {},
   "outputs": [
    {
     "data": {
      "text/plain": [
       "5"
      ]
     },
     "execution_count": 41,
     "metadata": {},
     "output_type": "execute_result"
    }
   ],
   "source": [
    "#tuple\n",
    "#total items\n",
    "week_days=('monday','tuesday','wednesday','thursday','friday')\n",
    "len(week_days)\n",
    "#note:It count the number of items in the tuple by using len function"
   ]
  },
  {
   "cell_type": "code",
   "execution_count": null,
   "metadata": {},
   "outputs": [
    {
     "name": "stdout",
     "output_type": "stream",
     "text": [
      "[1, 2, 3]\n",
      "[4, 5, 6]\n",
      "[7, 8, 9]\n"
     ]
    }
   ],
   "source": [
    "#list\n",
    "#to print matrix value\n",
    "m=[[1,2,3],[4,5,6],[7,8,9]]\n",
    "print(f'{m[0]}\\n{m[1]}\\n{m[2]}')\n",
    "#note: print the numbers in matrix value by using F string"
   ]
  },
  {
   "cell_type": "code",
   "execution_count": null,
   "metadata": {},
   "outputs": [
    {
     "data": {
      "text/plain": [
       "{'tam': 78, 'eng': 90, 'mat': 95, 'cse': 98, 'phy': 79, 'che': 86}"
      ]
     },
     "execution_count": 46,
     "metadata": {},
     "output_type": "execute_result"
    }
   ],
   "source": [
    "#dictionary\n",
    "#create dictionary\n",
    "score = {\n",
    "    'tam':78,\n",
    "    'eng':90,\n",
    "    'mat':95,\n",
    "    'cse':98,\n",
    "    'phy':79,\n",
    "    'che':86\n",
    "}\n",
    "score\n",
    "#note:we must give only colon for assiging values in dictionary and we must give comma after assiging each value except last one"
   ]
  },
  {
   "cell_type": "code",
   "execution_count": null,
   "metadata": {},
   "outputs": [
    {
     "data": {
      "text/plain": [
       "{20107038: 'partiban', 20107045: 'subash', 20107034: 'mano'}"
      ]
     },
     "execution_count": 47,
     "metadata": {},
     "output_type": "execute_result"
    }
   ],
   "source": [
    "#dictionary\n",
    "#add entry in the null set\n",
    "students={}\n",
    "students[20107038]='partiban'\n",
    "students[20107045]='subash'\n",
    "students[20107034]='mano'\n",
    "students\n",
    "#note:first we created an empty set then we added items\n",
    "#output:It entries with the register number corresponding to the particular name"
   ]
  },
  {
   "cell_type": "code",
   "execution_count": null,
   "metadata": {},
   "outputs": [
    {
     "data": {
      "text/plain": [
       "{20107038: 'partiban', 20107045: 'subash'}"
      ]
     },
     "execution_count": 106,
     "metadata": {},
     "output_type": "execute_result"
    }
   ],
   "source": [
    "#dictionary\n",
    "#remove entry by using pop function\n",
    "students={}\n",
    "students[20107038]='partiban'\n",
    "students[20107045]='subash'\n",
    "students[20107034]='mano'\n",
    "students\n",
    "students.pop(20107038)\n",
    "students\n",
    "#output: it removes the particular register number corresponding to the particular name"
   ]
  },
  {
   "cell_type": "code",
   "execution_count": null,
   "metadata": {},
   "outputs": [
    {
     "data": {
      "text/plain": [
       "'mano'"
      ]
     },
     "execution_count": 67,
     "metadata": {},
     "output_type": "execute_result"
    }
   ],
   "source": [
    "# dictionary\n",
    "#access value\n",
    "students={}\n",
    "students[20107038]='partiban'\n",
    "students[20107045]='subash'\n",
    "students[20107034]='mano'\n",
    "\n",
    "students[20107034]\n",
    "#note:it access value by keys,here register numbers are keys and names are values"
   ]
  },
  {
   "cell_type": "code",
   "execution_count": null,
   "metadata": {},
   "outputs": [
    {
     "data": {
      "text/plain": [
       "{20107038: 'partiban', 20107045: 'thangam', 20107034: 'mano'}"
      ]
     },
     "execution_count": 59,
     "metadata": {},
     "output_type": "execute_result"
    }
   ],
   "source": [
    "# dictionary\n",
    "#modify value\n",
    "students= {\n",
    "    20107038:'partiban',\n",
    "    20107045:'subash',\n",
    "    20107034:'mano'\n",
    "}\n",
    "students\n",
    "students[20107045]='thangam'\n",
    "students\n",
    "#note:to modify we must not give students for each key and value if u give it does not modify "
   ]
  },
  {
   "cell_type": "code",
   "execution_count": null,
   "metadata": {},
   "outputs": [
    {
     "data": {
      "text/plain": [
       "dict_keys([20107038, 20107045, 20107034])"
      ]
     },
     "execution_count": 65,
     "metadata": {},
     "output_type": "execute_result"
    }
   ],
   "source": [
    "# dictionary\n",
    "#get keys \n",
    "students= {\n",
    "    20107038:'partiban',\n",
    "    20107045:'subash',\n",
    "    20107034:'mano'\n",
    "}\n",
    "students\n",
    "students.keys()\n",
    "#output:it displays only keys as we get only keys"
   ]
  },
  {
   "cell_type": "code",
   "execution_count": null,
   "metadata": {},
   "outputs": [
    {
     "data": {
      "text/plain": [
       "dict_values(['partiban', 'subash', 'mano'])"
      ]
     },
     "execution_count": 68,
     "metadata": {},
     "output_type": "execute_result"
    }
   ],
   "source": [
    "# dictionary\n",
    "#get values\n",
    "students= {\n",
    "    20107038:'partiban',\n",
    "    20107045:'subash',\n",
    "    20107034:'mano'\n",
    "}\n",
    "students\n",
    "students.values()\n",
    "#output:it displays only values as we get only values"
   ]
  },
  {
   "cell_type": "code",
   "execution_count": null,
   "metadata": {},
   "outputs": [
    {
     "data": {
      "text/plain": [
       "True"
      ]
     },
     "execution_count": 69,
     "metadata": {},
     "output_type": "execute_result"
    }
   ],
   "source": [
    "# dictionary\n",
    "#find key exists in students method 1\n",
    "students= {\n",
    "    20107038:'partiban',\n",
    "    20107045:'subash',\n",
    "    20107034:'mano'\n",
    "}\n",
    "students\n",
    "20107034 in students\n",
    "#output:it checks if the particular register number is there if it is there it returns true"
   ]
  },
  {
   "cell_type": "code",
   "execution_count": null,
   "metadata": {},
   "outputs": [
    {
     "data": {
      "text/plain": [
       "False"
      ]
     },
     "execution_count": 73,
     "metadata": {},
     "output_type": "execute_result"
    }
   ],
   "source": [
    "# dictionary\n",
    "#find key exists in students method 2\n",
    "students= {\n",
    "    20107038:'partiban',\n",
    "    20107045:'subash',\n",
    "    20107034:'mano'\n",
    "}\n",
    "students\n",
    "20107039 in students.keys()\n",
    "#output:it checks if the particular register number is there if it is there it returns true"
   ]
  },
  {
   "cell_type": "code",
   "execution_count": null,
   "metadata": {},
   "outputs": [
    {
     "data": {
      "text/plain": [
       "True"
      ]
     },
     "execution_count": 77,
     "metadata": {},
     "output_type": "execute_result"
    }
   ],
   "source": [
    "# dictionary\n",
    "#find value exists in students method 1\n",
    "students= {\n",
    "    20107038:'partiban',\n",
    "    20107045:'subash',\n",
    "    20107034:'mano'\n",
    "}\n",
    "'subash' in students.values()\n",
    "#output:it checks if the particular name is there if it is there it returns true and if you give the values 'name' you must give values() instead if you give keys it occurs error because names are in value position"
   ]
  },
  {
   "cell_type": "code",
   "execution_count": null,
   "metadata": {},
   "outputs": [
    {
     "data": {
      "text/plain": [
       "3"
      ]
     },
     "execution_count": 78,
     "metadata": {},
     "output_type": "execute_result"
    }
   ],
   "source": [
    "# dictionary\n",
    "#total items\n",
    "students= {\n",
    "    20107038:'partiban',\n",
    "    20107045:'subash',\n",
    "    20107034:'mano'\n",
    "}\n",
    "len(students)\n",
    "#output:it counts the item by using len()"
   ]
  },
  {
   "cell_type": "code",
   "execution_count": 2,
   "metadata": {},
   "outputs": [
    {
     "data": {
      "text/plain": [
       "{-9, -5, 0, 2, 3, 5}"
      ]
     },
     "execution_count": 2,
     "metadata": {},
     "output_type": "execute_result"
    }
   ],
   "source": [
    "#set\n",
    "#getting only a value\n",
    "a={-5,-9,0,5,2,3}\n",
    "b={1,4,3,2,5,6}\n",
    "a"
   ]
  },
  {
   "cell_type": "code",
   "execution_count": null,
   "metadata": {},
   "outputs": [
    {
     "data": {
      "text/plain": [
       "{1, 2, 3, 4, 5, 6}"
      ]
     },
     "execution_count": 80,
     "metadata": {},
     "output_type": "execute_result"
    }
   ],
   "source": [
    "#set\n",
    "#getting only b value\n",
    "a={-5,-9,0,5,2,3}\n",
    "b={1,4,3,2,5,6}\n",
    "b"
   ]
  },
  {
   "cell_type": "code",
   "execution_count": null,
   "metadata": {},
   "outputs": [
    {
     "data": {
      "text/plain": [
       "{-9, -5, 0, 1, 2, 3, 4, 5, 6}"
      ]
     },
     "execution_count": 81,
     "metadata": {},
     "output_type": "execute_result"
    }
   ],
   "source": [
    "#set\n",
    "#union value\n",
    "a={-5,-9,0,5,2,3}\n",
    "b={1,4,3,2,5,6}\n",
    "a.union(b)\n",
    "#output:it joins the both set and if any number is repeated it executes only one tim ein the overall set"
   ]
  },
  {
   "cell_type": "code",
   "execution_count": null,
   "metadata": {},
   "outputs": [
    {
     "data": {
      "text/plain": [
       "{2, 3, 5}"
      ]
     },
     "execution_count": 82,
     "metadata": {},
     "output_type": "execute_result"
    }
   ],
   "source": [
    "#set\n",
    "#intersection value\n",
    "a={-5,-9,0,5,2,3}\n",
    "b={1,4,3,2,5,6}\n",
    "a.intersection(b)\n",
    "#output:it take sonly the common elements of boths set"
   ]
  },
  {
   "cell_type": "code",
   "execution_count": null,
   "metadata": {},
   "outputs": [
    {
     "data": {
      "text/plain": [
       "{-9, -5, 0}"
      ]
     },
     "execution_count": 83,
     "metadata": {},
     "output_type": "execute_result"
    }
   ],
   "source": [
    "#set\n",
    "#difference value\n",
    "a={-5,-9,0,5,2,3}\n",
    "b={1,4,3,2,5,6}\n",
    "a.difference(b)\n",
    "#output:it cancels the common value in both set and displays the remaining values in set a "
   ]
  },
  {
   "cell_type": "code",
   "execution_count": null,
   "metadata": {},
   "outputs": [
    {
     "data": {
      "text/plain": [
       "{1, 4, 6}"
      ]
     },
     "execution_count": 84,
     "metadata": {},
     "output_type": "execute_result"
    }
   ],
   "source": [
    "set\n",
    "#difference value\n",
    "a={-5,-9,0,5,2,3}\n",
    "b={1,4,3,2,5,6}\n",
    "b.difference(a)\n",
    "#output:it cancels the common value in both set and displays the remaining values in set b"
   ]
  },
  {
   "cell_type": "code",
   "execution_count": null,
   "metadata": {},
   "outputs": [
    {
     "data": {
      "text/plain": [
       "{'rahul': 'variablz student',\n",
       " 'ramraj': 'variablz student',\n",
       " 'ravi': 'variablz student'}"
      ]
     },
     "execution_count": 91,
     "metadata": {},
     "output_type": "execute_result"
    }
   ],
   "source": [
    "#dictionary\n",
    "#fromkeys()\n",
    "keys=('rahul','ram''raj','ravi')\n",
    "res=dict.fromkeys(keys,'variablz student')\n",
    "res\n",
    "#output:in this program each key is equal to common value and we can obtain the result by using this code"
   ]
  },
  {
   "cell_type": "code",
   "execution_count": null,
   "metadata": {},
   "outputs": [
    {
     "data": {
      "text/plain": [
       "23"
      ]
     },
     "execution_count": 102,
     "metadata": {},
     "output_type": "execute_result"
    }
   ],
   "source": [
    "#dictionary\n",
    "#set_default()\n",
    "keys={\n",
    "    'name':'rahul',\n",
    "    'qualification':'B.E',\n",
    "    'course':'data science',\n",
    "    }\n",
    "res=keys.setdefault('age',23)\n",
    "res\n",
    "#output:setdefault we should not give underscore and it add at the last in the output and accepts the input only in dictionary"
   ]
  },
  {
   "cell_type": "code",
   "execution_count": null,
   "metadata": {},
   "outputs": [
    {
     "data": {
      "text/plain": [
       "{20107038: 'partiban', 20107045: 'subash'}"
      ]
     },
     "execution_count": 107,
     "metadata": {},
     "output_type": "execute_result"
    }
   ],
   "source": [
    "#dictionary\n",
    "#remove entry by using pop function \n",
    "students={}\n",
    "students[20107038]='partiban'\n",
    "students[20107045]='subash'\n",
    "students[20107034]='mano'\n",
    "students.popitem()\n",
    "students\n",
    "#output: it removes the last row of the register number corresponding to the particular name when we commomly give the 'dictnmae.popitem()'"
   ]
  },
  {
   "cell_type": "code",
   "execution_count": null,
   "metadata": {},
   "outputs": [
    {
     "name": "stdout",
     "output_type": "stream",
     "text": [
      "1\n",
      "2\n",
      "3\n",
      "4\n",
      "5\n"
     ]
    }
   ],
   "source": [
    "i=1\n",
    "while i<=5:\n",
    "    print(i)\n",
    "    i=i+1\n",
    "\n"
   ]
  },
  {
   "cell_type": "code",
   "execution_count": 1,
   "metadata": {},
   "outputs": [
    {
     "name": "stdout",
     "output_type": "stream",
     "text": [
      "counting1\n",
      "counting2\n",
      "counting3\n",
      "counting4\n",
      "counting5\n"
     ]
    }
   ],
   "source": [
    "# while loop\n",
    "#counting the numbers\n",
    "count=1\n",
    "while(count<=5):\n",
    "    print(f'counting{count}')\n",
    "    count+=1"
   ]
  }
 ],
 "metadata": {
  "kernelspec": {
   "display_name": ".venv",
   "language": "python",
   "name": "python3"
  },
  "language_info": {
   "codemirror_mode": {
    "name": "ipython",
    "version": 3
   },
   "file_extension": ".py",
   "mimetype": "text/x-python",
   "name": "python",
   "nbconvert_exporter": "python",
   "pygments_lexer": "ipython3",
   "version": "3.11.6"
  }
 },
 "nbformat": 4,
 "nbformat_minor": 2
}
