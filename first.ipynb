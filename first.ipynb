{
 "cells": [
  {
   "cell_type": "code",
   "execution_count": 1,
   "metadata": {},
   "outputs": [
    {
     "data": {
      "text/plain": [
       "10"
      ]
     },
     "execution_count": 1,
     "metadata": {},
     "output_type": "execute_result"
    }
   ],
   "source": [
    "10"
   ]
  },
  {
   "cell_type": "code",
   "execution_count": 2,
   "metadata": {},
   "outputs": [
    {
     "name": "stdout",
     "output_type": "stream",
     "text": [
      "hello santha\n"
     ]
    }
   ],
   "source": [
    "print('hello santha')"
   ]
  },
  {
   "cell_type": "code",
   "execution_count": 3,
   "metadata": {},
   "outputs": [
    {
     "data": {
      "text/plain": [
       "''"
      ]
     },
     "execution_count": 3,
     "metadata": {},
     "output_type": "execute_result"
    }
   ],
   "source": [
    "# get input-number\n",
    "input('enter any number')"
   ]
  },
  {
   "cell_type": "code",
   "execution_count": 4,
   "metadata": {},
   "outputs": [
    {
     "data": {
      "text/plain": [
       "''"
      ]
     },
     "execution_count": 4,
     "metadata": {},
     "output_type": "execute_result"
    }
   ],
   "source": [
    "# give input words\n",
    "input('enter any words')"
   ]
  },
  {
   "cell_type": "code",
   "execution_count": 5,
   "metadata": {},
   "outputs": [],
   "source": [
    "# get multiple inputs\n",
    "input('Enter the first value')\n",
    "input('Enter the second value')"
   ]
  },
  {
   "cell_type": "code",
   "execution_count": null,
   "metadata": {},
   "outputs": [
    {
     "data": {
      "text/plain": [
       "'nachi'"
      ]
     },
     "execution_count": 8,
     "metadata": {},
     "output_type": "execute_result"
    }
   ],
   "source": [
    "# get inputs and save it to the variables\n",
    "firstname=input('Enter the first name')\n",
    "lastname=input('Enter the last name')\n",
    "firstname\n",
    "lastname"
   ]
  },
  {
   "cell_type": "code",
   "execution_count": null,
   "metadata": {},
   "outputs": [
    {
     "data": {
      "text/plain": [
       "'santha'"
      ]
     },
     "execution_count": 9,
     "metadata": {},
     "output_type": "execute_result"
    }
   ],
   "source": [
    "# get inputs and save it to the variables contd...\n",
    "firstname"
   ]
  },
  {
   "cell_type": "code",
   "execution_count": null,
   "metadata": {},
   "outputs": [
    {
     "data": {
      "text/plain": [
       "21"
      ]
     },
     "execution_count": 11,
     "metadata": {},
     "output_type": "execute_result"
    }
   ],
   "source": [
    "# directly assign values to the variables\n",
    "x=6\n",
    "age=21\n",
    "x\n",
    "age"
   ]
  },
  {
   "cell_type": "code",
   "execution_count": null,
   "metadata": {},
   "outputs": [
    {
     "data": {
      "text/plain": [
       "6"
      ]
     },
     "execution_count": 13,
     "metadata": {},
     "output_type": "execute_result"
    }
   ],
   "source": [
    "# directly assign values to the variables contd...\n",
    "x\n"
   ]
  },
  {
   "cell_type": "code",
   "execution_count": null,
   "metadata": {},
   "outputs": [
    {
     "name": "stdout",
     "output_type": "stream",
     "text": [
      "santha\n",
      "<class 'str'>\n"
     ]
    }
   ],
   "source": [
    "# display output to identify datatype\n",
    "print('santha')\n",
    "age=input('enter the age')\n",
    "print(type(age))"
   ]
  },
  {
   "cell_type": "code",
   "execution_count": null,
   "metadata": {},
   "outputs": [
    {
     "name": "stdout",
     "output_type": "stream",
     "text": [
      "santha\n"
     ]
    },
    {
     "data": {
      "text/plain": [
       "'24'"
      ]
     },
     "execution_count": 16,
     "metadata": {},
     "output_type": "execute_result"
    }
   ],
   "source": [
    "# display output  method 1\n",
    "\n",
    "print('santha')\n",
    "age=input('enter the age')\n",
    "age"
   ]
  },
  {
   "cell_type": "code",
   "execution_count": null,
   "metadata": {},
   "outputs": [
    {
     "name": "stdout",
     "output_type": "stream",
     "text": [
      "santha\n",
      "santhanachi\n"
     ]
    }
   ],
   "source": [
    "# display output\n",
    "print('santha')\n",
    "name=input('enter name')\n",
    "print(name)"
   ]
  },
  {
   "cell_type": "code",
   "execution_count": null,
   "metadata": {},
   "outputs": [
    {
     "name": "stdout",
     "output_type": "stream",
     "text": [
      "santhanachi\n",
      "santha nachi\n"
     ]
    }
   ],
   "source": [
    "# display output using concatenation operator and comma operator\n",
    "firstname=input('Enter the first name')\n",
    "lastname=input('Enter the last name')\n",
    "print(firstname+lastname)\n",
    "print(firstname,lastname)"
   ]
  },
  {
   "cell_type": "code",
   "execution_count": null,
   "metadata": {},
   "outputs": [
    {
     "data": {
      "text/plain": [
       "'23'"
      ]
     },
     "execution_count": 22,
     "metadata": {},
     "output_type": "execute_result"
    }
   ],
   "source": [
    "# sum of two inputs method 1\n",
    "a=input('enter the value of a')\n",
    "b=input('enter the value of b')\n",
    "c=a+b\n",
    "c\n",
    "# output:When adding two inputs it concatenate instead of adding them"
   ]
  },
  {
   "cell_type": "code",
   "execution_count": null,
   "metadata": {},
   "outputs": [
    {
     "name": "stdout",
     "output_type": "stream",
     "text": [
      "23\n"
     ]
    }
   ],
   "source": [
    "# sum of two inputs method 2\n",
    "=input('enter the value of a')\n",
    "b=input('enter the value of b')\n",
    "c=a+b\n",
    "print(c)\n",
    "# output:When adding two inputs it concatenate instead of adding them\n"
   ]
  },
  {
   "cell_type": "code",
   "execution_count": null,
   "metadata": {},
   "outputs": [
    {
     "data": {
      "text/plain": [
       "'santha'"
      ]
     },
     "execution_count": 28,
     "metadata": {},
     "output_type": "execute_result"
    }
   ],
   "source": [
    "# string in single quote method 1\n",
    "name='santha'\n",
    "name"
   ]
  },
  {
   "cell_type": "code",
   "execution_count": null,
   "metadata": {},
   "outputs": [
    {
     "data": {
      "text/plain": [
       "'santha'"
      ]
     },
     "execution_count": 30,
     "metadata": {},
     "output_type": "execute_result"
    }
   ],
   "source": [
    "# string in double quotes method 1\n",
    "name = \"santha\"\n",
    "name"
   ]
  },
  {
   "cell_type": "code",
   "execution_count": null,
   "metadata": {},
   "outputs": [
    {
     "data": {
      "text/plain": [
       "'santha'"
      ]
     },
     "execution_count": 31,
     "metadata": {},
     "output_type": "execute_result"
    }
   ],
   "source": [
    "# string in single quote method 2\n",
    "'santha'"
   ]
  },
  {
   "cell_type": "code",
   "execution_count": null,
   "metadata": {},
   "outputs": [
    {
     "data": {
      "text/plain": [
       "'santha'"
      ]
     },
     "execution_count": 32,
     "metadata": {},
     "output_type": "execute_result"
    }
   ],
   "source": [
    "# string in double quotes method 2\n",
    "\"santha\""
   ]
  },
  {
   "cell_type": "code",
   "execution_count": null,
   "metadata": {},
   "outputs": [
    {
     "data": {
      "text/plain": [
       "'santha'"
      ]
     },
     "execution_count": 33,
     "metadata": {},
     "output_type": "execute_result"
    }
   ],
   "source": [
    "# store strings in variables\n",
    "name='santha'\n",
    "identity = 'manager of lena meena agencies,lena traders'\n",
    "name"
   ]
  },
  {
   "cell_type": "code",
   "execution_count": null,
   "metadata": {},
   "outputs": [
    {
     "data": {
      "text/plain": [
       "'manager of lena meena agencies,lena traders'"
      ]
     },
     "execution_count": 35,
     "metadata": {},
     "output_type": "execute_result"
    }
   ],
   "source": [
    "# store strings in variables output dispaly contd....\n",
    "identity"
   ]
  },
  {
   "cell_type": "code",
   "execution_count": null,
   "metadata": {},
   "outputs": [
    {
     "name": "stdout",
     "output_type": "stream",
     "text": [
      " you are in lma ,lt\n"
     ]
    }
   ],
   "source": [
    "# multi line String\n",
    "# use triple times of single quote in one line\n",
    "print(''' you are in lma ,lt''')"
   ]
  },
  {
   "cell_type": "code",
   "execution_count": null,
   "metadata": {},
   "outputs": [
    {
     "name": "stdout",
     "output_type": "stream",
     "text": [
      " you are in lma \n",
      "      lt\n"
     ]
    }
   ],
   "source": [
    "# multi line String\n",
    "# use triple times of single quote in two lines\n",
    "print(''' you are in lma \n",
    "      lt''')"
   ]
  },
  {
   "cell_type": "code",
   "execution_count": null,
   "metadata": {},
   "outputs": [
    {
     "name": "stdout",
     "output_type": "stream",
     "text": [
      "you are in lma ,lt\n"
     ]
    }
   ],
   "source": [
    "# multi line String\n",
    "# use triple times of double quote in one line\n",
    "print(\"\"\"you are in lma ,lt\"\"\")"
   ]
  },
  {
   "cell_type": "code",
   "execution_count": null,
   "metadata": {},
   "outputs": [
    {
     "name": "stdout",
     "output_type": "stream",
     "text": [
      "you are in lma \n",
      "      lt\n"
     ]
    }
   ],
   "source": [
    "# multi line String\n",
    "# use triple times of double quote in two lines \n",
    "print(\"\"\"you are in lma \n",
    "      lt\"\"\")"
   ]
  },
  {
   "cell_type": "code",
   "execution_count": null,
   "metadata": {},
   "outputs": [
    {
     "name": "stdout",
     "output_type": "stream",
     "text": [
      "I am Santha\n",
      "completed B.E\n"
     ]
    }
   ],
   "source": [
    "# multi line classic methods\n",
    "print('I am Santha\\ncompleted B.E')"
   ]
  },
  {
   "cell_type": "code",
   "execution_count": null,
   "metadata": {},
   "outputs": [
    {
     "name": "stdout",
     "output_type": "stream",
     "text": [
      "I am Santha\n",
      "completed B.E\n"
     ]
    }
   ],
   "source": [
    "# multi line classic methods\n",
    "# cut line for readability\n",
    "print('I am Santha\\n'\n",
    "      'completed B.E')"
   ]
  },
  {
   "cell_type": "code",
   "execution_count": null,
   "metadata": {},
   "outputs": [
    {
     "data": {
      "text/plain": [
       "11"
      ]
     },
     "execution_count": 45,
     "metadata": {},
     "output_type": "execute_result"
    }
   ],
   "source": [
    "# integer declaration\n",
    "# direct number entry\n",
    "11\n"
   ]
  },
  {
   "cell_type": "code",
   "execution_count": null,
   "metadata": {},
   "outputs": [
    {
     "name": "stdout",
     "output_type": "stream",
     "text": [
      "3456.54346547\n"
     ]
    }
   ],
   "source": [
    "# integer declaration\n",
    "# assigning to variable\n",
    "x=3456.54346547\n",
    "print(x)"
   ]
  },
  {
   "cell_type": "code",
   "execution_count": null,
   "metadata": {},
   "outputs": [
    {
     "data": {
      "text/plain": [
       "801"
      ]
     },
     "execution_count": 47,
     "metadata": {},
     "output_type": "execute_result"
    }
   ],
   "source": [
    "# integer declaration\n",
    "# mathematical operations\n",
    "345+456"
   ]
  },
  {
   "cell_type": "code",
   "execution_count": null,
   "metadata": {},
   "outputs": [
    {
     "data": {
      "text/plain": [
       "'345+456'"
      ]
     },
     "execution_count": 48,
     "metadata": {},
     "output_type": "execute_result"
    }
   ],
   "source": [
    "# integer declaration\n",
    "# mathematical operations\n",
    "'345+456'\n",
    "#output: when it is in single quote it takes as string and print the same"
   ]
  },
  {
   "cell_type": "code",
   "execution_count": null,
   "metadata": {},
   "outputs": [
    {
     "data": {
      "text/plain": [
       "2334.5657"
      ]
     },
     "execution_count": 49,
     "metadata": {},
     "output_type": "execute_result"
    }
   ],
   "source": [
    "# float declaration\n",
    "2334.5657\n"
   ]
  },
  {
   "cell_type": "code",
   "execution_count": null,
   "metadata": {},
   "outputs": [
    {
     "data": {
      "text/plain": [
       "37759.5657"
      ]
     },
     "execution_count": 50,
     "metadata": {},
     "output_type": "execute_result"
    }
   ],
   "source": [
    "# float declaration of adding numbers method 1\n",
    "2334.5657+35425"
   ]
  },
  {
   "cell_type": "code",
   "execution_count": null,
   "metadata": {},
   "outputs": [
    {
     "data": {
      "text/plain": [
       "11.5"
      ]
     },
     "execution_count": 52,
     "metadata": {},
     "output_type": "execute_result"
    }
   ],
   "source": [
    "# float declaration of adding numbers method 2 by assining variable\n",
    "\n",
    "s=5.6\n",
    "p=5.9\n",
    "sp=s+p\n",
    "sp\n"
   ]
  },
  {
   "cell_type": "code",
   "execution_count": null,
   "metadata": {},
   "outputs": [
    {
     "data": {
      "text/plain": [
       "-0.34000000000000075"
      ]
     },
     "execution_count": 58,
     "metadata": {},
     "output_type": "execute_result"
    }
   ],
   "source": [
    "# to round of first process and get the output of numbers\n",
    "s=5.6\n",
    "p=5.94\n",
    "sp=s-p\n",
    "sp"
   ]
  },
  {
   "cell_type": "code",
   "execution_count": null,
   "metadata": {},
   "outputs": [
    {
     "data": {
      "text/plain": [
       "-0.34"
      ]
     },
     "execution_count": 59,
     "metadata": {},
     "output_type": "execute_result"
    }
   ],
   "source": [
    "# rounding the above output\n",
    "round(sp,3)\n",
    "# 3 is the position to round of the value"
   ]
  },
  {
   "cell_type": "code",
   "execution_count": 3,
   "metadata": {},
   "outputs": [
    {
     "data": {
      "text/plain": [
       "6"
      ]
     },
     "execution_count": 3,
     "metadata": {},
     "output_type": "execute_result"
    }
   ],
   "source": [
    "# casting\n",
    "# string to integer conversion \n",
    "x='6'\n",
    "x=int(x)\n",
    "x"
   ]
  },
  {
   "cell_type": "code",
   "execution_count": 5,
   "metadata": {},
   "outputs": [
    {
     "data": {
      "text/plain": [
       "11"
      ]
     },
     "execution_count": 5,
     "metadata": {},
     "output_type": "execute_result"
    }
   ],
   "source": [
    "# casting\n",
    "# string to integer conversion \n",
    "# now do the math operation\n",
    "x+5"
   ]
  },
  {
   "cell_type": "code",
   "execution_count": 6,
   "metadata": {},
   "outputs": [
    {
     "data": {
      "text/plain": [
       "6.9"
      ]
     },
     "execution_count": 6,
     "metadata": {},
     "output_type": "execute_result"
    }
   ],
   "source": [
    "# casting\n",
    "# string to float conversion \n",
    "x='6.90'\n",
    "x=float(x)\n",
    "x"
   ]
  },
  {
   "cell_type": "code",
   "execution_count": 7,
   "metadata": {},
   "outputs": [
    {
     "data": {
      "text/plain": [
       "6785891.9"
      ]
     },
     "execution_count": 7,
     "metadata": {},
     "output_type": "execute_result"
    }
   ],
   "source": [
    "# casting\n",
    "# string to float conversion \n",
    "# now do the math operation\n",
    "x+6785885\n"
   ]
  },
  {
   "cell_type": "code",
   "execution_count": 9,
   "metadata": {},
   "outputs": [
    {
     "ename": "ValueError",
     "evalue": "invalid literal for int() with base 10: '6.90'",
     "output_type": "error",
     "traceback": [
      "\u001b[0;31m---------------------------------------------------------------------------\u001b[0m",
      "\u001b[0;31mValueError\u001b[0m                                Traceback (most recent call last)",
      "Cell \u001b[0;32mIn[9], line 2\u001b[0m\n\u001b[1;32m      1\u001b[0m x\u001b[38;5;241m=\u001b[39m\u001b[38;5;124m'\u001b[39m\u001b[38;5;124m6.90\u001b[39m\u001b[38;5;124m'\u001b[39m\n\u001b[0;32m----> 2\u001b[0m x\u001b[38;5;241m=\u001b[39m\u001b[38;5;28;43mint\u001b[39;49m\u001b[43m(\u001b[49m\u001b[43mx\u001b[49m\u001b[43m)\u001b[49m\n\u001b[1;32m      3\u001b[0m x\n",
      "\u001b[0;31mValueError\u001b[0m: invalid literal for int() with base 10: '6.90'"
     ]
    }
   ],
   "source": [
    "# casting\n",
    "# string to int conversion \n",
    "# float can accept integers but integers cant accept float\n",
    "x='6.90'\n",
    "x=int(x)\n",
    "x\n",
    "# output: string can convert into float but string with do the math nowfloat cannot convert into int"
   ]
  },
  {
   "cell_type": "code",
   "execution_count": 10,
   "metadata": {},
   "outputs": [
    {
     "ename": "ValueError",
     "evalue": "invalid literal for int() with base 10: '20.5'",
     "output_type": "error",
     "traceback": [
      "\u001b[0;31m---------------------------------------------------------------------------\u001b[0m",
      "\u001b[0;31mValueError\u001b[0m                                Traceback (most recent call last)",
      "Cell \u001b[0;32mIn[10], line 3\u001b[0m\n\u001b[1;32m      1\u001b[0m \u001b[38;5;66;03m# wrong conversion type 1\u001b[39;00m\n\u001b[1;32m      2\u001b[0m value\u001b[38;5;241m=\u001b[39m\u001b[38;5;124m'\u001b[39m\u001b[38;5;124m20.5\u001b[39m\u001b[38;5;124m'\u001b[39m\n\u001b[0;32m----> 3\u001b[0m x\u001b[38;5;241m=\u001b[39m\u001b[38;5;28;43mint\u001b[39;49m\u001b[43m(\u001b[49m\u001b[43mvalue\u001b[49m\u001b[43m)\u001b[49m\n",
      "\u001b[0;31mValueError\u001b[0m: invalid literal for int() with base 10: '20.5'"
     ]
    }
   ],
   "source": [
    "# wrong conversion type 1\n",
    "value='20.5'\n",
    "x=int(value)\n",
    "# output: In value it is assigned as string but to execute we asked in int so it gives error\n",
    "# output:cannot convert float like string into integers"
   ]
  },
  {
   "cell_type": "code",
   "execution_count": 11,
   "metadata": {},
   "outputs": [
    {
     "ename": "ValueError",
     "evalue": "invalid literal for int() with base 10: '20.5a'",
     "output_type": "error",
     "traceback": [
      "\u001b[0;31m---------------------------------------------------------------------------\u001b[0m",
      "\u001b[0;31mValueError\u001b[0m                                Traceback (most recent call last)",
      "Cell \u001b[0;32mIn[11], line 3\u001b[0m\n\u001b[1;32m      1\u001b[0m \u001b[38;5;66;03m# wrong conversion type 2\u001b[39;00m\n\u001b[1;32m      2\u001b[0m value\u001b[38;5;241m=\u001b[39m\u001b[38;5;124m'\u001b[39m\u001b[38;5;124m20.5a\u001b[39m\u001b[38;5;124m'\u001b[39m\n\u001b[0;32m----> 3\u001b[0m x\u001b[38;5;241m=\u001b[39m\u001b[38;5;28;43mint\u001b[39;49m\u001b[43m(\u001b[49m\u001b[43mvalue\u001b[49m\u001b[43m)\u001b[49m\n\u001b[1;32m      4\u001b[0m y\u001b[38;5;241m=\u001b[39m\u001b[38;5;28mfloat\u001b[39m(value)\n",
      "\u001b[0;31mValueError\u001b[0m: invalid literal for int() with base 10: '20.5a'"
     ]
    }
   ],
   "source": [
    "# wrong conversion type 2\n",
    "value='20.5a'\n",
    "x=int(value)\n",
    "y=float(value)\n",
    "# output:cannot convert string with characters into float and int"
   ]
  },
  {
   "cell_type": "code",
   "execution_count": 13,
   "metadata": {},
   "outputs": [
    {
     "name": "stdout",
     "output_type": "stream",
     "text": [
      "3435\n"
     ]
    }
   ],
   "source": [
    "# do the math now\n",
    "s=input('enter the number')\n",
    "p=input('enter the number')\n",
    "print(s+p)\n",
    "# output: when we does not give the runtime input in int it concatenates and print the value"
   ]
  },
  {
   "cell_type": "code",
   "execution_count": 14,
   "metadata": {},
   "outputs": [
    {
     "name": "stdout",
     "output_type": "stream",
     "text": [
      "69\n"
     ]
    }
   ],
   "source": [
    "# do the math now\n",
    "# assigin data type int for the runtime integer method 1 \n",
    "s=int(input('enter the number'))\n",
    "p=int(input('enter the number'))\n",
    "print(s+p)\n",
    "# output: when we give the runtime input in int it add and print the value"
   ]
  },
  {
   "cell_type": "code",
   "execution_count": 15,
   "metadata": {},
   "outputs": [
    {
     "name": "stdout",
     "output_type": "stream",
     "text": [
      "69\n"
     ]
    }
   ],
   "source": [
    "# do the math now\n",
    "# assigin data type int for the runtime integer method 2\n",
    "s=int(input('enter the number'))\n",
    "p=int(input('enter the number'))\n",
    "sp=int(s)+int(p)\n",
    "print(sp)\n",
    "# output: when we give the runtime input in int it add and print the value"
   ]
  },
  {
   "cell_type": "code",
   "execution_count": 19,
   "metadata": {},
   "outputs": [
    {
     "name": "stdout",
     "output_type": "stream",
     "text": [
      "you have bought 50 chocolates and the total price is 2500\n"
     ]
    }
   ],
   "source": [
    "# string manipulation\n",
    "# using f- string method 1\n",
    "rate=50\n",
    "qty=input(\"how much amount of chocolates do u buy?\")\n",
    "qty=int(qty)\n",
    "output= f'you have bought {qty} chocolates and the total price is {qty*rate}'\n",
    "print(output)"
   ]
  },
  {
   "cell_type": "code",
   "execution_count": 21,
   "metadata": {},
   "outputs": [
    {
     "name": "stdout",
     "output_type": "stream",
     "text": [
      "you have bought 50 chocolates and the total price is 2500\n"
     ]
    }
   ],
   "source": [
    "# string manipulation\n",
    "# using f- string method 2\n",
    "rate=50\n",
    "qty=input(\"how much amount of chocolates do u buy?\")\n",
    "qty=int(qty)\n",
    "print(f'you have bought {qty} chocolates and the total price is {qty*rate}')"
   ]
  },
  {
   "cell_type": "code",
   "execution_count": 22,
   "metadata": {},
   "outputs": [
    {
     "name": "stdout",
     "output_type": "stream",
     "text": [
      "chocolate:milkybar price:90 qty:70\n"
     ]
    }
   ],
   "source": [
    "# string manipulation\n",
    "# using format example 1\n",
    "chocolate='milkybar'\n",
    "price=90\n",
    "qty=70\n",
    "info_string='chocolate:{} price:{} qty:{}'.format(chocolate,price,qty)\n",
    "print(info_string)"
   ]
  },
  {
   "cell_type": "code",
   "execution_count": 36,
   "metadata": {},
   "outputs": [
    {
     "name": "stdout",
     "output_type": "stream",
     "text": [
      "name:santha age:21 height: 56\n"
     ]
    }
   ],
   "source": [
    "# string manipulation\n",
    "# using format example 2\n",
    "name='santha'\n",
    "age=21\n",
    "height=56\n",
    "info_string='name:{} age:{} height: {}'.format(name,age,height)\n",
    "print(info_string)"
   ]
  },
  {
   "cell_type": "code",
   "execution_count": 33,
   "metadata": {},
   "outputs": [
    {
     "data": {
      "text/plain": [
       "True"
      ]
     },
     "execution_count": 33,
     "metadata": {},
     "output_type": "execute_result"
    }
   ],
   "source": [
    "#boolean (true)\n",
    "married=True\n",
    "married\n"
   ]
  },
  {
   "cell_type": "code",
   "execution_count": 37,
   "metadata": {},
   "outputs": [
    {
     "data": {
      "text/plain": [
       "False"
      ]
     },
     "execution_count": 37,
     "metadata": {},
     "output_type": "execute_result"
    }
   ],
   "source": [
    "#boolean (false)\n",
    "passed=False\n",
    "passed"
   ]
  },
  {
   "cell_type": "code",
   "execution_count": 41,
   "metadata": {},
   "outputs": [],
   "source": [
    "#none type\n",
    "sp=None\n",
    "sp\n",
    "# output:none is a keyword so it must be in this format only\"None\" otherwise it occur error"
   ]
  },
  {
   "cell_type": "code",
   "execution_count": 42,
   "metadata": {},
   "outputs": [
    {
     "data": {
      "text/plain": [
       "''"
      ]
     },
     "execution_count": 42,
     "metadata": {},
     "output_type": "execute_result"
    }
   ],
   "source": [
    "#None type\n",
    "X=''\n",
    "X"
   ]
  },
  {
   "cell_type": "code",
   "execution_count": 43,
   "metadata": {},
   "outputs": [
    {
     "data": {
      "text/plain": [
       "'0'"
      ]
     },
     "execution_count": 43,
     "metadata": {},
     "output_type": "execute_result"
    }
   ],
   "source": [
    "#string none\n",
    "X='0'\n",
    "X"
   ]
  },
  {
   "cell_type": "code",
   "execution_count": 46,
   "metadata": {},
   "outputs": [
    {
     "data": {
      "text/plain": [
       "0"
      ]
     },
     "execution_count": 46,
     "metadata": {},
     "output_type": "execute_result"
    }
   ],
   "source": [
    "#integer none\n",
    "X=0\n",
    "X\n",
    "# output:always integer none value=0"
   ]
  },
  {
   "cell_type": "code",
   "execution_count": 49,
   "metadata": {},
   "outputs": [
    {
     "data": {
      "text/plain": [
       "True"
      ]
     },
     "execution_count": 49,
     "metadata": {},
     "output_type": "execute_result"
    }
   ],
   "source": [
    "#boolean none(false)\n",
    "X=False\n",
    "X\n",
    "# output:false is a keyword so it must be in this format only\"False\" otherwise it occur error"
   ]
  },
  {
   "cell_type": "code",
   "execution_count": 50,
   "metadata": {},
   "outputs": [
    {
     "data": {
      "text/plain": [
       "True"
      ]
     },
     "execution_count": 50,
     "metadata": {},
     "output_type": "execute_result"
    }
   ],
   "source": [
    "#boolean none(true)\n",
    "X=True\n",
    "X\n",
    "# output:true is a keyword so it must be in this format only\"True\" otherwise it occur error"
   ]
  },
  {
   "cell_type": "code",
   "execution_count": 51,
   "metadata": {},
   "outputs": [
    {
     "data": {
      "text/plain": [
       "float"
      ]
     },
     "execution_count": 51,
     "metadata": {},
     "output_type": "execute_result"
    }
   ],
   "source": [
    "#identify data type\n",
    "type(.2314)\n"
   ]
  },
  {
   "cell_type": "code",
   "execution_count": 52,
   "metadata": {},
   "outputs": [
    {
     "data": {
      "text/plain": [
       "int"
      ]
     },
     "execution_count": 52,
     "metadata": {},
     "output_type": "execute_result"
    }
   ],
   "source": [
    "#identify data type\n",
    "type(3445)"
   ]
  },
  {
   "cell_type": "code",
   "execution_count": 53,
   "metadata": {},
   "outputs": [
    {
     "data": {
      "text/plain": [
       "str"
      ]
     },
     "execution_count": 53,
     "metadata": {},
     "output_type": "execute_result"
    }
   ],
   "source": [
    "#identify data type\n",
    "type('3445')"
   ]
  },
  {
   "cell_type": "code",
   "execution_count": 54,
   "metadata": {},
   "outputs": [
    {
     "data": {
      "text/plain": [
       "str"
      ]
     },
     "execution_count": 54,
     "metadata": {},
     "output_type": "execute_result"
    }
   ],
   "source": [
    "#identify data type\n",
    "type('gfg')"
   ]
  },
  {
   "cell_type": "code",
   "execution_count": 55,
   "metadata": {},
   "outputs": [
    {
     "data": {
      "text/plain": [
       "str"
      ]
     },
     "execution_count": 55,
     "metadata": {},
     "output_type": "execute_result"
    }
   ],
   "source": [
    "#identify data type\n",
    "type('.5785')"
   ]
  },
  {
   "cell_type": "code",
   "execution_count": 56,
   "metadata": {},
   "outputs": [
    {
     "data": {
      "text/plain": [
       "bool"
      ]
     },
     "execution_count": 56,
     "metadata": {},
     "output_type": "execute_result"
    }
   ],
   "source": [
    "#identify data type\n",
    "type(True)"
   ]
  },
  {
   "cell_type": "code",
   "execution_count": 57,
   "metadata": {},
   "outputs": [
    {
     "data": {
      "text/plain": [
       "NoneType"
      ]
     },
     "execution_count": 57,
     "metadata": {},
     "output_type": "execute_result"
    }
   ],
   "source": [
    "#identify data type\n",
    "type(None)"
   ]
  },
  {
   "cell_type": "code",
   "execution_count": 58,
   "metadata": {},
   "outputs": [
    {
     "data": {
      "text/plain": [
       "4960"
      ]
     },
     "execution_count": 58,
     "metadata": {},
     "output_type": "execute_result"
    }
   ],
   "source": [
    "#arithmetic operators\n",
    "# addition\n",
    "a=44\n",
    "b=2342\n",
    "c=2342\n",
    "d=232\n",
    "total=a+b+c+d\n",
    "total"
   ]
  },
  {
   "cell_type": "code",
   "execution_count": 59,
   "metadata": {},
   "outputs": [
    {
     "data": {
      "text/plain": [
       "0"
      ]
     },
     "execution_count": 59,
     "metadata": {},
     "output_type": "execute_result"
    }
   ],
   "source": [
    "#arithmetic operators\n",
    "#subtraction \n",
    "a=44\n",
    "b=2342\n",
    "c=2342\n",
    "d=232\n",
    "total=b-c\n",
    "total"
   ]
  },
  {
   "cell_type": "code",
   "execution_count": 63,
   "metadata": {},
   "outputs": [
    {
     "name": "stdout",
     "output_type": "stream",
     "text": [
      "210\n"
     ]
    }
   ],
   "source": [
    "#arithmetic operators\n",
    "#subtraction \n",
    "income=234\n",
    "expenses=24\n",
    "profit=income-expenses\n",
    "print(profit)"
   ]
  },
  {
   "cell_type": "code",
   "execution_count": 64,
   "metadata": {},
   "outputs": [
    {
     "name": "stdout",
     "output_type": "stream",
     "text": [
      "9989843\n"
     ]
    }
   ],
   "source": [
    "#arithmetic operators\n",
    "#multiplication\n",
    "price=23\n",
    "quantity=434341\n",
    "total_price=price*quantity\n",
    "print(total_price)"
   ]
  },
  {
   "cell_type": "code",
   "execution_count": 69,
   "metadata": {},
   "outputs": [
    {
     "name": "stdout",
     "output_type": "stream",
     "text": [
      "toatl price 9989843\n"
     ]
    }
   ],
   "source": [
    "#arithmetic operators\n",
    "#multiplication with f string\n",
    "price=23\n",
    "quantity=434341\n",
    "total_price=price*quantity\n",
    "print (f'toatl price {total_price}')"
   ]
  },
  {
   "cell_type": "code",
   "execution_count": 70,
   "metadata": {},
   "outputs": [
    {
     "name": "stdout",
     "output_type": "stream",
     "text": [
      "18884.391304347828\n"
     ]
    }
   ],
   "source": [
    "#arithmetic operators\n",
    "#division\n",
    "price=23\n",
    "quantity=434341\n",
    "total_price=quantity/price\n",
    "print(total_price)"
   ]
  },
  {
   "cell_type": "code",
   "execution_count": 71,
   "metadata": {},
   "outputs": [
    {
     "name": "stdout",
     "output_type": "stream",
     "text": [
      "splitted students 41.331569664903\n"
     ]
    }
   ],
   "source": [
    "#arithmetic operators\n",
    "#division with f string method 1 \n",
    "total_stu=23435\n",
    "sections=567\n",
    "print(f'splitted students {total_stu/sections}')\n"
   ]
  },
  {
   "cell_type": "code",
   "execution_count": 72,
   "metadata": {},
   "outputs": [
    {
     "name": "stdout",
     "output_type": "stream",
     "text": [
      "splitted students 41.331569664903\n"
     ]
    }
   ],
   "source": [
    "#arithmetic operators\n",
    "#division with f string method 2 \n",
    "total_stu=23435\n",
    "sections=567\n",
    "split=total_stu/sections\n",
    "print(f'splitted students {split}')"
   ]
  },
  {
   "cell_type": "code",
   "execution_count": 73,
   "metadata": {},
   "outputs": [
    {
     "name": "stdout",
     "output_type": "stream",
     "text": [
      "splitted students 41\n"
     ]
    }
   ],
   "source": [
    "#arithmetic operators\n",
    "#integer division |quotient with f string\n",
    "total_stu=23435\n",
    "sections=567\n",
    "split=total_stu//sections\n",
    "print(f'splitted students {split}')"
   ]
  },
  {
   "cell_type": "code",
   "execution_count": 74,
   "metadata": {},
   "outputs": [
    {
     "name": "stdout",
     "output_type": "stream",
     "text": [
      "splitted students 188\n"
     ]
    }
   ],
   "source": [
    "#arithmetic operators\n",
    "#modules \n",
    "total_stu=23435\n",
    "sections=567\n",
    "split=total_stu%sections\n",
    "print(f'splitted students {split}')"
   ]
  },
  {
   "cell_type": "code",
   "execution_count": 83,
   "metadata": {},
   "outputs": [
    {
     "data": {
      "text/plain": [
       "81"
      ]
     },
     "execution_count": 83,
     "metadata": {},
     "output_type": "execute_result"
    }
   ],
   "source": [
    "#arithmetic operators\n",
    "#exponent(Power) method 1 \n",
    "z=9\n",
    "#square\n",
    "square=z**2\n",
    "square\n",
    "#cube\n",
    "cube=z**3\n",
    "cube\n",
    "#exponent\n",
    "exponent=z**45\n",
    "exponent"
   ]
  },
  {
   "cell_type": "code",
   "execution_count": 86,
   "metadata": {},
   "outputs": [
    {
     "name": "stdout",
     "output_type": "stream",
     "text": [
      "square=81\n",
      "cube=729\n",
      "exponent=8727963568087712425891397479476727340041449\n"
     ]
    }
   ],
   "source": [
    "#arithmetic operators\n",
    "#exponent(Power) method 2 \n",
    "z=9\n",
    "#square\n",
    "square=z**2\n",
    "print(f'square={square}')\n",
    "#cube\n",
    "cube=z**3\n",
    "print(f'cube={cube}')\n",
    "#exponent\n",
    "exponent=z**45\n",
    "print(f'exponent={exponent}')"
   ]
  },
  {
   "cell_type": "code",
   "execution_count": 102,
   "metadata": {},
   "outputs": [
    {
     "name": "stdout",
     "output_type": "stream",
     "text": [
      "10\n"
     ]
    }
   ],
   "source": [
    "#operator precedence\n",
    "#use parenthesis to control and better readability for the output 10\n",
    "value=(2*(1+1)-2)*5\n",
    "print(value)"
   ]
  },
  {
   "cell_type": "code",
   "execution_count": 103,
   "metadata": {},
   "outputs": [
    {
     "name": "stdout",
     "output_type": "stream",
     "text": [
      "-7\n"
     ]
    }
   ],
   "source": [
    "#operator precedence\n",
    "value=2*1+1-2*5\n",
    "print(value)"
   ]
  },
  {
   "cell_type": "code",
   "execution_count": 2,
   "metadata": {},
   "outputs": [],
   "source": [
    "#math operation\n",
    "# #import math library\n",
    "import math\n",
    "#output:if we use one library we must first import it before doing the main body of the program..so we first imported before doing the calculations or functions or writing the main body of the program \n"
   ]
  },
  {
   "cell_type": "code",
   "execution_count": 3,
   "metadata": {},
   "outputs": [
    {
     "data": {
      "text/plain": [
       "120"
      ]
     },
     "execution_count": 3,
     "metadata": {},
     "output_type": "execute_result"
    }
   ],
   "source": [
    "#finding factorial using math function \n",
    "math.factorial(5)"
   ]
  },
  {
   "cell_type": "code",
   "execution_count": 4,
   "metadata": {},
   "outputs": [
    {
     "data": {
      "text/plain": [
       "13.0"
      ]
     },
     "execution_count": 4,
     "metadata": {},
     "output_type": "execute_result"
    }
   ],
   "source": [
    "#math operation\n",
    "#finding sqrt using math function \n",
    "math.sqrt(169)"
   ]
  },
  {
   "cell_type": "code",
   "execution_count": 6,
   "metadata": {},
   "outputs": [
    {
     "data": {
      "text/plain": [
       "3.141592653589793"
      ]
     },
     "execution_count": 6,
     "metadata": {},
     "output_type": "execute_result"
    }
   ],
   "source": [
    "#math operation\n",
    "#finding pi using math function \n",
    "math.pi"
   ]
  },
  {
   "cell_type": "code",
   "execution_count": 9,
   "metadata": {},
   "outputs": [
    {
     "data": {
      "text/plain": [
       "2.718281828459045"
      ]
     },
     "execution_count": 9,
     "metadata": {},
     "output_type": "execute_result"
    }
   ],
   "source": [
    "#math operation\n",
    "#finding eulers number(e) using math function\n",
    "math.e"
   ]
  },
  {
   "cell_type": "code",
   "execution_count": 11,
   "metadata": {},
   "outputs": [
    {
     "data": {
      "text/plain": [
       "1.1868238913561442"
      ]
     },
     "execution_count": 11,
     "metadata": {},
     "output_type": "execute_result"
    }
   ],
   "source": [
    "#math operation\n",
    "#trignometry\n",
    "#convert degree into radians using math operation\n",
    "degree=68\n",
    "radians=math.radians(degree)\n",
    "radians"
   ]
  },
  {
   "cell_type": "code",
   "execution_count": 16,
   "metadata": {},
   "outputs": [
    {
     "data": {
      "text/plain": [
       "-0.8979276806892913"
      ]
     },
     "execution_count": 16,
     "metadata": {},
     "output_type": "execute_result"
    }
   ],
   "source": [
    "#math operation\n",
    "#trignometry\n",
    "#Finding sin value by using radians\n",
    "math.sin(radians)\n",
    "#finding sin value by using degree\n",
    "math.sin(degree)"
   ]
  },
  {
   "cell_type": "code",
   "execution_count": 17,
   "metadata": {},
   "outputs": [
    {
     "data": {
      "text/plain": [
       "0.37460659341591196"
      ]
     },
     "execution_count": 17,
     "metadata": {},
     "output_type": "execute_result"
    }
   ],
   "source": [
    "#math operation\n",
    "#trignometry\n",
    "#Finding cos value by using radians\n",
    "math.cos(radians)"
   ]
  },
  {
   "cell_type": "code",
   "execution_count": 18,
   "metadata": {},
   "outputs": [
    {
     "data": {
      "text/plain": [
       "0.4401430224960407"
      ]
     },
     "execution_count": 18,
     "metadata": {},
     "output_type": "execute_result"
    }
   ],
   "source": [
    "# math operation\n",
    "#trignometry\n",
    "#Finding cos value by using degree\n",
    "math.cos(degree)"
   ]
  },
  {
   "cell_type": "code",
   "execution_count": 19,
   "metadata": {},
   "outputs": [
    {
     "data": {
      "text/plain": [
       "2.4750868534162964"
      ]
     },
     "execution_count": 19,
     "metadata": {},
     "output_type": "execute_result"
    }
   ],
   "source": [
    "#math operation\n",
    "#trignometry\n",
    "#Finding tan value by using radians\n",
    "math.tan(radians)"
   ]
  },
  {
   "cell_type": "code",
   "execution_count": 20,
   "metadata": {},
   "outputs": [
    {
     "data": {
      "text/plain": [
       "-2.0400815980159464"
      ]
     },
     "execution_count": 20,
     "metadata": {},
     "output_type": "execute_result"
    }
   ],
   "source": [
    "#math operation\n",
    "#trignometry\n",
    "#Finding tan value by using degree\n",
    "math.tan(degree)"
   ]
  },
  {
   "cell_type": "code",
   "execution_count": 24,
   "metadata": {},
   "outputs": [
    {
     "data": {
      "text/plain": [
       "17786216.0"
      ]
     },
     "execution_count": 24,
     "metadata": {},
     "output_type": "execute_result"
    }
   ],
   "source": [
    "#math operation\n",
    "#trignometry\n",
    "#Calculate the area of the land which composed of 50 equi-radii circle of radius 34 feet.The price of 1 sqft land is 98$ \n",
    "circle=50\n",
    "radius=34\n",
    "price=98\n",
    "pi=3.14\n",
    "area=pi*radius**2\n",
    "total_area=area*circle\n",
    "total_price=total_area*price\n",
    "total_price"
   ]
  },
  {
   "cell_type": "code",
   "execution_count": 25,
   "metadata": {},
   "outputs": [
    {
     "data": {
      "text/plain": [
       "17795237.426994022"
      ]
     },
     "execution_count": 25,
     "metadata": {},
     "output_type": "execute_result"
    }
   ],
   "source": [
    "#math operation\n",
    "#trignometry\n",
    "#Calculate the area of the land which composed of 50 equi-radii circle of radius 34 feet.The price of 1 sqft land is 98$ circle=50\n",
    "circle=50\n",
    "radius=34\n",
    "price=98\n",
    "pi=math.pi\n",
    "area=pi*radius**2\n",
    "total_area=area*circle\n",
    "total_price=total_area*price\n",
    "total_price\n",
    "#output:when we use pi by math function instead of assisgning the pi value=3.14 we can see the vast difference in output by comparing the above program"
   ]
  }
 ],
 "metadata": {
  "kernelspec": {
   "display_name": "Python 3",
   "language": "python",
   "name": "python3"
  },
  "language_info": {
   "codemirror_mode": {
    "name": "ipython",
    "version": 3
   },
   "file_extension": ".py",
   "mimetype": "text/x-python",
   "name": "python",
   "nbconvert_exporter": "python",
   "pygments_lexer": "ipython3",
   "version": "3.11.6"
  }
 },
 "nbformat": 4,
 "nbformat_minor": 2
}
